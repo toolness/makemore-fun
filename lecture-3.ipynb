{
 "cells": [
  {
   "cell_type": "code",
   "execution_count": 4,
   "id": "a6b2f629",
   "metadata": {},
   "outputs": [],
   "source": [
    "import torch\n",
    "import torch.nn.functional as F\n",
    "import matplotlib\n",
    "\n",
    "%matplotlib inline"
   ]
  },
  {
   "cell_type": "code",
   "execution_count": 6,
   "id": "994d58b2",
   "metadata": {},
   "outputs": [],
   "source": [
    "words = open('names.txt', 'r').read().splitlines()\n",
    "\n",
    "chars = sorted(list(set(''.join(words))))\n",
    "stoi = {s:i+1 for i,s in enumerate(chars)}\n",
    "stoi['.'] = 0\n",
    "itos = {i:s for s,i in stoi.items()}\n"
   ]
  },
  {
   "cell_type": "code",
   "execution_count": 24,
   "id": "dfa522e6",
   "metadata": {},
   "outputs": [
    {
     "name": "stdout",
     "output_type": "stream",
     "text": [
      "tensor([[ 0,  0,  0],\n",
      "        [ 0,  0,  5],\n",
      "        [ 0,  5, 13],\n",
      "        [ 5, 13, 13],\n",
      "        [13, 13,  1]])\n",
      "tensor([ 5, 13, 13,  1,  0])\n"
     ]
    }
   ],
   "source": [
    "context_size = 3\n",
    "\n",
    "xs = []\n",
    "ys = []\n",
    "for word in words[:1]:\n",
    "    context = [0] * context_size\n",
    "    for ch in word:\n",
    "        ich = stoi[ch]\n",
    "        xs.append(context)\n",
    "        ys.append(ich)\n",
    "        context = context[1:] + [ich]\n",
    "    xs.append(context)\n",
    "    ys.append(0)\n",
    "assert len(xs) == len(ys)\n",
    "xs = torch.tensor(xs)\n",
    "ys = torch.tensor(ys)\n",
    "print(xs)\n",
    "print(ys)"
   ]
  },
  {
   "cell_type": "code",
   "execution_count": null,
   "id": "2a686617",
   "metadata": {},
   "outputs": [
    {
     "name": "stdout",
     "output_type": "stream",
     "text": [
      "tensor([[ 1.5674, -0.2373,  1.5674, -0.2373,  1.5674, -0.2373],\n",
      "        [ 1.5674, -0.2373,  1.5674, -0.2373, -0.4713,  0.7868],\n",
      "        [ 1.5674, -0.2373, -0.4713,  0.7868,  2.4448, -0.6701],\n",
      "        [-0.4713,  0.7868,  2.4448, -0.6701,  2.4448, -0.6701],\n",
      "        [ 2.4448, -0.6701,  2.4448, -0.6701, -0.0274, -1.1008]])\n"
     ]
    }
   ],
   "source": [
    "\n",
    "num_examples = ys.shape[0]\n",
    "\n",
    "g = torch.Generator().manual_seed(2147483647)\n",
    "W = torch.randn((27, 2), dtype=torch.float, generator=g)\n",
    "terminator = W[0]\n",
    "W_lookup = W[xs].view(num_examples, 6)\n",
    "\n",
    "assert W_lookup[0][:2].tolist() == terminator.tolist()\n",
    "\n",
    "\n",
    "\n",
    "\n",
    "\n"
   ]
  },
  {
   "cell_type": "code",
   "execution_count": null,
   "id": "15da80ca",
   "metadata": {},
   "outputs": [],
   "source": []
  }
 ],
 "metadata": {
  "kernelspec": {
   "display_name": "Python 3",
   "language": "python",
   "name": "python3"
  },
  "language_info": {
   "codemirror_mode": {
    "name": "ipython",
    "version": 3
   },
   "file_extension": ".py",
   "mimetype": "text/x-python",
   "name": "python",
   "nbconvert_exporter": "python",
   "pygments_lexer": "ipython3",
   "version": "3.11.9"
  }
 },
 "nbformat": 4,
 "nbformat_minor": 5
}
